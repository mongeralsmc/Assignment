{
 "cells": [
  {
   "cell_type": "code",
   "execution_count": 1,
   "id": "e7eeeca3",
   "metadata": {},
   "outputs": [
    {
     "name": "stdout",
     "output_type": "stream",
     "text": [
      "Updated weights from input to hidden layer:\n",
      " [[0.14978072 0.19956143]\n",
      " [0.24975114 0.29950229]]\n",
      "Updated biases for hidden layer:\n",
      " [[0.34561432]\n",
      " [0.34502287]]\n",
      "Updated weights from hidden to output layer:\n",
      " [[0.35891648 0.40866619]\n",
      " [0.51130127 0.56137012]]\n",
      "Updated biases for output layer:\n",
      " [[0.53075072]\n",
      " [0.61904912]]\n"
     ]
    }
   ],
   "source": [
    "import numpy as np\n",
    "\n",
    "\n",
    "def sigmoid(x):\n",
    "    return 1 / (1 + np.exp(-x))\n",
    "\n",
    "def sigmoid_derivative(x):\n",
    "    return x * (1 - x)  \n",
    "\n",
    "i1, i2 = 0.05, 0.10\n",
    "inputs = np.array([[i1], [i2]])\n",
    "\n",
    "\n",
    "weights_input_hidden = np.array([[0.15, 0.20], [0.25, 0.30]])  \n",
    "bias_hidden = np.array([[0.35], [0.35]])  \n",
    "\n",
    "weights_hidden_output = np.array([[0.40, 0.45], [0.50, 0.55]]) \n",
    "bias_output = np.array([[0.60], [0.60]])  \n",
    "\n",
    "\n",
    "expected_output = np.array([[0.01], [0.99]])\n",
    "\n",
    "\n",
    "lr = 0.5\n",
    "\n",
    "\n",
    "hidden_input = np.dot(weights_input_hidden, inputs) + bias_hidden\n",
    "hidden_output = sigmoid(hidden_input)\n",
    "\n",
    "final_input = np.dot(weights_hidden_output, hidden_output) + bias_output\n",
    "final_output = sigmoid(final_input)\n",
    "\n",
    "\n",
    "error = expected_output - final_output\n",
    "mse = np.mean(error ** 2)\n",
    "\n",
    "\n",
    "output_gradient = sigmoid_derivative(final_output)\n",
    "hidden_gradient = sigmoid_derivative(hidden_output)\n",
    "\n",
    "\n",
    "delta_output = error * output_gradient  \n",
    "delta_hidden = np.dot(weights_hidden_output.T, delta_output) * hidden_gradient  \n",
    "\n",
    "\n",
    "weights_hidden_output += lr * np.dot(delta_output, hidden_output.T)\n",
    "bias_output += lr * delta_output\n",
    "\n",
    "weights_input_hidden += lr * np.dot(delta_hidden, inputs.T)\n",
    "bias_hidden += lr * delta_hidden\n",
    "\n",
    "\n",
    "print(\"Updated weights from input to hidden layer:\\n\", weights_input_hidden)\n",
    "print(\"Updated biases for hidden layer:\\n\", bias_hidden)\n",
    "print(\"Updated weights from hidden to output layer:\\n\", weights_hidden_output)\n",
    "print(\"Updated biases for output layer:\\n\", bias_output)"
   ]
  },
  {
   "cell_type": "code",
   "execution_count": null,
   "id": "d7300691",
   "metadata": {},
   "outputs": [],
   "source": []
  }
 ],
 "metadata": {
  "kernelspec": {
   "display_name": "Python 3 (ipykernel)",
   "language": "python",
   "name": "python3"
  },
  "language_info": {
   "codemirror_mode": {
    "name": "ipython",
    "version": 3
   },
   "file_extension": ".py",
   "mimetype": "text/x-python",
   "name": "python",
   "nbconvert_exporter": "python",
   "pygments_lexer": "ipython3",
   "version": "3.11.5"
  }
 },
 "nbformat": 4,
 "nbformat_minor": 5
}
